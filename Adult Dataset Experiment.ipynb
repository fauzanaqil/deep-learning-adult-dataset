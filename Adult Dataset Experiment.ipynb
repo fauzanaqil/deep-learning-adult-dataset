{
 "cells": [
  {
   "cell_type": "code",
   "execution_count": 1,
   "id": "6c6ae633",
   "metadata": {},
   "outputs": [
    {
     "name": "stdout",
     "output_type": "stream",
     "text": [
      "Requirement already satisfied: tensorflow-addons in c:\\users\\viplab\\anaconda3\\lib\\site-packages (0.18.0)\n",
      "Requirement already satisfied: packaging in c:\\users\\viplab\\anaconda3\\lib\\site-packages (from tensorflow-addons) (21.3)\n",
      "Requirement already satisfied: typeguard>=2.7 in c:\\users\\viplab\\anaconda3\\lib\\site-packages (from tensorflow-addons) (2.13.3)\n",
      "Requirement already satisfied: pyparsing!=3.0.5,>=2.0.2 in c:\\users\\viplab\\anaconda3\\lib\\site-packages (from packaging->tensorflow-addons) (3.0.9)\n",
      "Requirement already satisfied: pydot in c:\\users\\viplab\\anaconda3\\lib\\site-packages (1.4.2)\n",
      "Requirement already satisfied: pyparsing>=2.1.4 in c:\\users\\viplab\\anaconda3\\lib\\site-packages (from pydot) (3.0.9)\n"
     ]
    }
   ],
   "source": [
    "!pip install tensorflow-addons\n",
    "#!pip install tensorflow\n",
    "!pip install pydot\n",
    "import tensorflow as tf\n",
    "import tensorflow_addons as tfa\n",
    "from tensorflow import keras\n",
    "import numpy as np\n",
    "import matplotlib.pyplot as plt\n",
    "import pandas as pd\n",
    "from sklearn import preprocessing"
   ]
  },
  {
   "cell_type": "code",
   "execution_count": 2,
   "id": "bd2b7e01",
   "metadata": {},
   "outputs": [],
   "source": [
    "#read dataset\n",
    "header = ['age', 'workclass', 'fnlwgt', 'education', 'education-num', 'marital-status', 'occupation', 'relationship', 'race', 'sex', 'capital-gain', \n",
    "                  'capital-loss', 'hours-per-week', 'native-country', 'salary']\n",
    "df = pd.read_csv(\"D:/Fauzan/Study PhD/Semester 1/Machine Learning/Homework/HW3/Adult Dataset/adult.data.csv\",index_col=False, skipinitialspace=True,header=None,names=header)"
   ]
  },
  {
   "cell_type": "code",
   "execution_count": 3,
   "id": "84f6c5db",
   "metadata": {},
   "outputs": [
    {
     "data": {
      "text/html": [
       "<div>\n",
       "<style scoped>\n",
       "    .dataframe tbody tr th:only-of-type {\n",
       "        vertical-align: middle;\n",
       "    }\n",
       "\n",
       "    .dataframe tbody tr th {\n",
       "        vertical-align: top;\n",
       "    }\n",
       "\n",
       "    .dataframe thead th {\n",
       "        text-align: right;\n",
       "    }\n",
       "</style>\n",
       "<table border=\"1\" class=\"dataframe\">\n",
       "  <thead>\n",
       "    <tr style=\"text-align: right;\">\n",
       "      <th></th>\n",
       "      <th>age</th>\n",
       "      <th>workclass</th>\n",
       "      <th>fnlwgt</th>\n",
       "      <th>education</th>\n",
       "      <th>education-num</th>\n",
       "      <th>marital-status</th>\n",
       "      <th>occupation</th>\n",
       "      <th>relationship</th>\n",
       "      <th>race</th>\n",
       "      <th>sex</th>\n",
       "      <th>capital-gain</th>\n",
       "      <th>capital-loss</th>\n",
       "      <th>hours-per-week</th>\n",
       "      <th>native-country</th>\n",
       "      <th>salary</th>\n",
       "    </tr>\n",
       "  </thead>\n",
       "  <tbody>\n",
       "    <tr>\n",
       "      <th>0</th>\n",
       "      <td>39</td>\n",
       "      <td>State-gov</td>\n",
       "      <td>77516</td>\n",
       "      <td>Bachelors</td>\n",
       "      <td>13</td>\n",
       "      <td>Never-married</td>\n",
       "      <td>Adm-clerical</td>\n",
       "      <td>Not-in-family</td>\n",
       "      <td>White</td>\n",
       "      <td>Male</td>\n",
       "      <td>2174</td>\n",
       "      <td>0</td>\n",
       "      <td>40</td>\n",
       "      <td>United-States</td>\n",
       "      <td>&lt;=50K</td>\n",
       "    </tr>\n",
       "    <tr>\n",
       "      <th>1</th>\n",
       "      <td>50</td>\n",
       "      <td>Self-emp-not-inc</td>\n",
       "      <td>83311</td>\n",
       "      <td>Bachelors</td>\n",
       "      <td>13</td>\n",
       "      <td>Married-civ-spouse</td>\n",
       "      <td>Exec-managerial</td>\n",
       "      <td>Husband</td>\n",
       "      <td>White</td>\n",
       "      <td>Male</td>\n",
       "      <td>0</td>\n",
       "      <td>0</td>\n",
       "      <td>13</td>\n",
       "      <td>United-States</td>\n",
       "      <td>&lt;=50K</td>\n",
       "    </tr>\n",
       "    <tr>\n",
       "      <th>2</th>\n",
       "      <td>38</td>\n",
       "      <td>Private</td>\n",
       "      <td>215646</td>\n",
       "      <td>HS-grad</td>\n",
       "      <td>9</td>\n",
       "      <td>Divorced</td>\n",
       "      <td>Handlers-cleaners</td>\n",
       "      <td>Not-in-family</td>\n",
       "      <td>White</td>\n",
       "      <td>Male</td>\n",
       "      <td>0</td>\n",
       "      <td>0</td>\n",
       "      <td>40</td>\n",
       "      <td>United-States</td>\n",
       "      <td>&lt;=50K</td>\n",
       "    </tr>\n",
       "    <tr>\n",
       "      <th>3</th>\n",
       "      <td>53</td>\n",
       "      <td>Private</td>\n",
       "      <td>234721</td>\n",
       "      <td>11th</td>\n",
       "      <td>7</td>\n",
       "      <td>Married-civ-spouse</td>\n",
       "      <td>Handlers-cleaners</td>\n",
       "      <td>Husband</td>\n",
       "      <td>Black</td>\n",
       "      <td>Male</td>\n",
       "      <td>0</td>\n",
       "      <td>0</td>\n",
       "      <td>40</td>\n",
       "      <td>United-States</td>\n",
       "      <td>&lt;=50K</td>\n",
       "    </tr>\n",
       "    <tr>\n",
       "      <th>4</th>\n",
       "      <td>28</td>\n",
       "      <td>Private</td>\n",
       "      <td>338409</td>\n",
       "      <td>Bachelors</td>\n",
       "      <td>13</td>\n",
       "      <td>Married-civ-spouse</td>\n",
       "      <td>Prof-specialty</td>\n",
       "      <td>Wife</td>\n",
       "      <td>Black</td>\n",
       "      <td>Female</td>\n",
       "      <td>0</td>\n",
       "      <td>0</td>\n",
       "      <td>40</td>\n",
       "      <td>Cuba</td>\n",
       "      <td>&lt;=50K</td>\n",
       "    </tr>\n",
       "  </tbody>\n",
       "</table>\n",
       "</div>"
      ],
      "text/plain": [
       "   age         workclass  fnlwgt  education  education-num  \\\n",
       "0   39         State-gov   77516  Bachelors             13   \n",
       "1   50  Self-emp-not-inc   83311  Bachelors             13   \n",
       "2   38           Private  215646    HS-grad              9   \n",
       "3   53           Private  234721       11th              7   \n",
       "4   28           Private  338409  Bachelors             13   \n",
       "\n",
       "       marital-status         occupation   relationship   race     sex  \\\n",
       "0       Never-married       Adm-clerical  Not-in-family  White    Male   \n",
       "1  Married-civ-spouse    Exec-managerial        Husband  White    Male   \n",
       "2            Divorced  Handlers-cleaners  Not-in-family  White    Male   \n",
       "3  Married-civ-spouse  Handlers-cleaners        Husband  Black    Male   \n",
       "4  Married-civ-spouse     Prof-specialty           Wife  Black  Female   \n",
       "\n",
       "   capital-gain  capital-loss  hours-per-week native-country salary  \n",
       "0          2174             0              40  United-States  <=50K  \n",
       "1             0             0              13  United-States  <=50K  \n",
       "2             0             0              40  United-States  <=50K  \n",
       "3             0             0              40  United-States  <=50K  \n",
       "4             0             0              40           Cuba  <=50K  "
      ]
     },
     "execution_count": 3,
     "metadata": {},
     "output_type": "execute_result"
    }
   ],
   "source": [
    "df.head()"
   ]
  },
  {
   "cell_type": "code",
   "execution_count": 4,
   "id": "f2b2a3c5",
   "metadata": {},
   "outputs": [
    {
     "data": {
      "text/plain": [
       "(32561, 15)"
      ]
     },
     "execution_count": 4,
     "metadata": {},
     "output_type": "execute_result"
    }
   ],
   "source": [
    "df.shape"
   ]
  },
  {
   "cell_type": "code",
   "execution_count": 5,
   "id": "15935744",
   "metadata": {},
   "outputs": [
    {
     "data": {
      "text/plain": [
       "age                int64\n",
       "workclass         object\n",
       "fnlwgt             int64\n",
       "education         object\n",
       "education-num      int64\n",
       "marital-status    object\n",
       "occupation        object\n",
       "relationship      object\n",
       "race              object\n",
       "sex               object\n",
       "capital-gain       int64\n",
       "capital-loss       int64\n",
       "hours-per-week     int64\n",
       "native-country    object\n",
       "salary            object\n",
       "dtype: object"
      ]
     },
     "execution_count": 5,
     "metadata": {},
     "output_type": "execute_result"
    }
   ],
   "source": [
    "df.dtypes"
   ]
  },
  {
   "cell_type": "markdown",
   "id": "96fc4d51",
   "metadata": {},
   "source": [
    "### 1. Preprocessing"
   ]
  },
  {
   "cell_type": "markdown",
   "id": "d2bf45a7",
   "metadata": {},
   "source": [
    "##### 1.1. Change ? to NaN value"
   ]
  },
  {
   "cell_type": "code",
   "execution_count": 6,
   "id": "d8730279",
   "metadata": {},
   "outputs": [
    {
     "data": {
      "text/plain": [
       "(2399, 15)"
      ]
     },
     "execution_count": 6,
     "metadata": {},
     "output_type": "execute_result"
    }
   ],
   "source": [
    "df = df.replace('?', np.nan)\n",
    "df[pd.isnull(df).any(axis=1)].shape"
   ]
  },
  {
   "cell_type": "markdown",
   "id": "aeb04e57",
   "metadata": {},
   "source": [
    "##### 1.2. Drop rows containing NaN"
   ]
  },
  {
   "cell_type": "code",
   "execution_count": 7,
   "id": "3371cc1f",
   "metadata": {},
   "outputs": [
    {
     "name": "stdout",
     "output_type": "stream",
     "text": [
      "(32561, 15)\n"
     ]
    },
    {
     "data": {
      "text/plain": [
       "(30162, 15)"
      ]
     },
     "execution_count": 7,
     "metadata": {},
     "output_type": "execute_result"
    }
   ],
   "source": [
    "print(df.shape)\n",
    "df.dropna(inplace=True)\n",
    "df.shape"
   ]
  },
  {
   "cell_type": "markdown",
   "id": "f455a0c2",
   "metadata": {},
   "source": [
    "##### 1.3. Deal with categorical columns"
   ]
  },
  {
   "cell_type": "code",
   "execution_count": 8,
   "id": "10e9834b",
   "metadata": {},
   "outputs": [
    {
     "name": "stdout",
     "output_type": "stream",
     "text": [
      "workclass has 7 values : ['State-gov', 'Self-emp-not-inc', 'Private', 'Federal-gov', 'Local-gov', 'Self-emp-inc', 'Without-pay']\n",
      "education has 16 values : ['Bachelors', 'HS-grad', '11th', 'Masters', '9th', 'Some-college', 'Assoc-acdm', '7th-8th', 'Doctorate', 'Assoc-voc', 'Prof-school', '5th-6th', '10th', 'Preschool', '12th', '1st-4th']\n",
      "marital-status has 7 values : ['Never-married', 'Married-civ-spouse', 'Divorced', 'Married-spouse-absent', 'Separated', 'Married-AF-spouse', 'Widowed']\n",
      "occupation has 14 values : ['Adm-clerical', 'Exec-managerial', 'Handlers-cleaners', 'Prof-specialty', 'Other-service', 'Sales', 'Transport-moving', 'Farming-fishing', 'Machine-op-inspct', 'Tech-support', 'Craft-repair', 'Protective-serv', 'Armed-Forces', 'Priv-house-serv']\n",
      "relationship has 6 values : ['Not-in-family', 'Husband', 'Wife', 'Own-child', 'Unmarried', 'Other-relative']\n",
      "race has 5 values : ['White', 'Black', 'Asian-Pac-Islander', 'Amer-Indian-Eskimo', 'Other']\n",
      "sex has 2 values : ['Male', 'Female']\n",
      "native-country has 41 values : ['United-States', 'Cuba', 'Jamaica', 'India', 'Mexico', 'Puerto-Rico', 'Honduras', 'England', 'Canada', 'Germany', 'Iran', 'Philippines', 'Poland', 'Columbia', 'Cambodia', 'Thailand', 'Ecuador', 'Laos', 'Taiwan', 'Haiti', 'Portugal', 'Dominican-Republic', 'El-Salvador', 'France', 'Guatemala', 'Italy', 'China', 'South', 'Japan', 'Yugoslavia', 'Peru', 'Outlying-US(Guam-USVI-etc)', 'Scotland', 'Trinadad&Tobago', 'Greece', 'Nicaragua', 'Vietnam', 'Hong', 'Ireland', 'Hungary', 'Holand-Netherlands']\n",
      "salary has 2 values : ['<=50K', '>50K']\n"
     ]
    }
   ],
   "source": [
    "#drop education-num column\n",
    "df.drop('education-num', axis=1, inplace=True)\n",
    "\n",
    "#collect group categorical column \n",
    "categorical_columns = ['workclass','education','marital-status','occupation','relationship','race','sex','native-country']\n",
    "label_column = ['salary']\n",
    "\n",
    "#identify how many value in the categorical column\n",
    "def show_unique_values(columns):\n",
    "  for column in columns:\n",
    "    uniq = df[column].unique().tolist()\n",
    "    print(column+ \" has \"+ str(len(uniq)) +\" values\" + \" : \" + str(uniq))\n",
    "show_unique_values(categorical_columns)\n",
    "show_unique_values(label_column)"
   ]
  },
  {
   "cell_type": "code",
   "execution_count": 9,
   "id": "7ae08734",
   "metadata": {},
   "outputs": [
    {
     "name": "stdout",
     "output_type": "stream",
     "text": [
      "salary done!\n",
      "salary has 2 values : [0, 1]\n"
     ]
    }
   ],
   "source": [
    "#convert categorical column to integer\n",
    "def convert_to_int(columns):\n",
    "  for column in columns:\n",
    "    unique_values = df[column].unique().tolist()\n",
    "    dic = {}\n",
    "    for indx, val in enumerate(unique_values):\n",
    "      dic[val]=indx\n",
    "    df[column] = df[column].map(dic).astype(int)\n",
    "    print(column + \" done!\")\n",
    "convert_to_int(label_column)\n",
    "show_unique_values(label_column)"
   ]
  },
  {
   "cell_type": "code",
   "execution_count": 10,
   "id": "63f18fe2",
   "metadata": {},
   "outputs": [],
   "source": [
    "#create function convert to one hot to get a good one \n",
    "def convert_to_onehot(data,columns):\n",
    "  dummies = pd.get_dummies(data[columns])\n",
    "  data = data.drop(columns, axis=1)\n",
    "  data = pd.concat([data, dummies], axis=1)\n",
    "  return data"
   ]
  },
  {
   "cell_type": "code",
   "execution_count": 11,
   "id": "e1fb3594",
   "metadata": {},
   "outputs": [
    {
     "data": {
      "text/html": [
       "<div>\n",
       "<style scoped>\n",
       "    .dataframe tbody tr th:only-of-type {\n",
       "        vertical-align: middle;\n",
       "    }\n",
       "\n",
       "    .dataframe tbody tr th {\n",
       "        vertical-align: top;\n",
       "    }\n",
       "\n",
       "    .dataframe thead th {\n",
       "        text-align: right;\n",
       "    }\n",
       "</style>\n",
       "<table border=\"1\" class=\"dataframe\">\n",
       "  <thead>\n",
       "    <tr style=\"text-align: right;\">\n",
       "      <th></th>\n",
       "      <th>age</th>\n",
       "      <th>fnlwgt</th>\n",
       "      <th>capital-gain</th>\n",
       "      <th>capital-loss</th>\n",
       "      <th>hours-per-week</th>\n",
       "      <th>salary</th>\n",
       "      <th>workclass_Federal-gov</th>\n",
       "      <th>workclass_Local-gov</th>\n",
       "      <th>workclass_Private</th>\n",
       "      <th>workclass_Self-emp-inc</th>\n",
       "      <th>...</th>\n",
       "      <th>native-country_Portugal</th>\n",
       "      <th>native-country_Puerto-Rico</th>\n",
       "      <th>native-country_Scotland</th>\n",
       "      <th>native-country_South</th>\n",
       "      <th>native-country_Taiwan</th>\n",
       "      <th>native-country_Thailand</th>\n",
       "      <th>native-country_Trinadad&amp;Tobago</th>\n",
       "      <th>native-country_United-States</th>\n",
       "      <th>native-country_Vietnam</th>\n",
       "      <th>native-country_Yugoslavia</th>\n",
       "    </tr>\n",
       "  </thead>\n",
       "  <tbody>\n",
       "    <tr>\n",
       "      <th>0</th>\n",
       "      <td>39</td>\n",
       "      <td>77516</td>\n",
       "      <td>2174</td>\n",
       "      <td>0</td>\n",
       "      <td>40</td>\n",
       "      <td>0</td>\n",
       "      <td>0</td>\n",
       "      <td>0</td>\n",
       "      <td>0</td>\n",
       "      <td>0</td>\n",
       "      <td>...</td>\n",
       "      <td>0</td>\n",
       "      <td>0</td>\n",
       "      <td>0</td>\n",
       "      <td>0</td>\n",
       "      <td>0</td>\n",
       "      <td>0</td>\n",
       "      <td>0</td>\n",
       "      <td>1</td>\n",
       "      <td>0</td>\n",
       "      <td>0</td>\n",
       "    </tr>\n",
       "    <tr>\n",
       "      <th>1</th>\n",
       "      <td>50</td>\n",
       "      <td>83311</td>\n",
       "      <td>0</td>\n",
       "      <td>0</td>\n",
       "      <td>13</td>\n",
       "      <td>0</td>\n",
       "      <td>0</td>\n",
       "      <td>0</td>\n",
       "      <td>0</td>\n",
       "      <td>0</td>\n",
       "      <td>...</td>\n",
       "      <td>0</td>\n",
       "      <td>0</td>\n",
       "      <td>0</td>\n",
       "      <td>0</td>\n",
       "      <td>0</td>\n",
       "      <td>0</td>\n",
       "      <td>0</td>\n",
       "      <td>1</td>\n",
       "      <td>0</td>\n",
       "      <td>0</td>\n",
       "    </tr>\n",
       "    <tr>\n",
       "      <th>2</th>\n",
       "      <td>38</td>\n",
       "      <td>215646</td>\n",
       "      <td>0</td>\n",
       "      <td>0</td>\n",
       "      <td>40</td>\n",
       "      <td>0</td>\n",
       "      <td>0</td>\n",
       "      <td>0</td>\n",
       "      <td>1</td>\n",
       "      <td>0</td>\n",
       "      <td>...</td>\n",
       "      <td>0</td>\n",
       "      <td>0</td>\n",
       "      <td>0</td>\n",
       "      <td>0</td>\n",
       "      <td>0</td>\n",
       "      <td>0</td>\n",
       "      <td>0</td>\n",
       "      <td>1</td>\n",
       "      <td>0</td>\n",
       "      <td>0</td>\n",
       "    </tr>\n",
       "    <tr>\n",
       "      <th>3</th>\n",
       "      <td>53</td>\n",
       "      <td>234721</td>\n",
       "      <td>0</td>\n",
       "      <td>0</td>\n",
       "      <td>40</td>\n",
       "      <td>0</td>\n",
       "      <td>0</td>\n",
       "      <td>0</td>\n",
       "      <td>1</td>\n",
       "      <td>0</td>\n",
       "      <td>...</td>\n",
       "      <td>0</td>\n",
       "      <td>0</td>\n",
       "      <td>0</td>\n",
       "      <td>0</td>\n",
       "      <td>0</td>\n",
       "      <td>0</td>\n",
       "      <td>0</td>\n",
       "      <td>1</td>\n",
       "      <td>0</td>\n",
       "      <td>0</td>\n",
       "    </tr>\n",
       "    <tr>\n",
       "      <th>4</th>\n",
       "      <td>28</td>\n",
       "      <td>338409</td>\n",
       "      <td>0</td>\n",
       "      <td>0</td>\n",
       "      <td>40</td>\n",
       "      <td>0</td>\n",
       "      <td>0</td>\n",
       "      <td>0</td>\n",
       "      <td>1</td>\n",
       "      <td>0</td>\n",
       "      <td>...</td>\n",
       "      <td>0</td>\n",
       "      <td>0</td>\n",
       "      <td>0</td>\n",
       "      <td>0</td>\n",
       "      <td>0</td>\n",
       "      <td>0</td>\n",
       "      <td>0</td>\n",
       "      <td>0</td>\n",
       "      <td>0</td>\n",
       "      <td>0</td>\n",
       "    </tr>\n",
       "  </tbody>\n",
       "</table>\n",
       "<p>5 rows × 104 columns</p>\n",
       "</div>"
      ],
      "text/plain": [
       "   age  fnlwgt  capital-gain  capital-loss  hours-per-week  salary  \\\n",
       "0   39   77516          2174             0              40       0   \n",
       "1   50   83311             0             0              13       0   \n",
       "2   38  215646             0             0              40       0   \n",
       "3   53  234721             0             0              40       0   \n",
       "4   28  338409             0             0              40       0   \n",
       "\n",
       "   workclass_Federal-gov  workclass_Local-gov  workclass_Private  \\\n",
       "0                      0                    0                  0   \n",
       "1                      0                    0                  0   \n",
       "2                      0                    0                  1   \n",
       "3                      0                    0                  1   \n",
       "4                      0                    0                  1   \n",
       "\n",
       "   workclass_Self-emp-inc  ...  native-country_Portugal  \\\n",
       "0                       0  ...                        0   \n",
       "1                       0  ...                        0   \n",
       "2                       0  ...                        0   \n",
       "3                       0  ...                        0   \n",
       "4                       0  ...                        0   \n",
       "\n",
       "   native-country_Puerto-Rico  native-country_Scotland  native-country_South  \\\n",
       "0                           0                        0                     0   \n",
       "1                           0                        0                     0   \n",
       "2                           0                        0                     0   \n",
       "3                           0                        0                     0   \n",
       "4                           0                        0                     0   \n",
       "\n",
       "   native-country_Taiwan  native-country_Thailand  \\\n",
       "0                      0                        0   \n",
       "1                      0                        0   \n",
       "2                      0                        0   \n",
       "3                      0                        0   \n",
       "4                      0                        0   \n",
       "\n",
       "   native-country_Trinadad&Tobago  native-country_United-States  \\\n",
       "0                               0                             1   \n",
       "1                               0                             1   \n",
       "2                               0                             1   \n",
       "3                               0                             1   \n",
       "4                               0                             0   \n",
       "\n",
       "   native-country_Vietnam  native-country_Yugoslavia  \n",
       "0                       0                          0  \n",
       "1                       0                          0  \n",
       "2                       0                          0  \n",
       "3                       0                          0  \n",
       "4                       0                          0  \n",
       "\n",
       "[5 rows x 104 columns]"
      ]
     },
     "execution_count": 11,
     "metadata": {},
     "output_type": "execute_result"
    }
   ],
   "source": [
    "#show the changes after convert to onehot\n",
    "df = convert_to_onehot(df,categorical_columns)\n",
    "df.head()"
   ]
  },
  {
   "cell_type": "code",
   "execution_count": 12,
   "id": "8fd2a3b1",
   "metadata": {},
   "outputs": [
    {
     "data": {
      "text/plain": [
       "(30162, 104)"
      ]
     },
     "execution_count": 12,
     "metadata": {},
     "output_type": "execute_result"
    }
   ],
   "source": [
    "df.shape"
   ]
  },
  {
   "cell_type": "markdown",
   "id": "7672c6b0",
   "metadata": {},
   "source": [
    "##### 1.4. Normalize the Data"
   ]
  },
  {
   "cell_type": "code",
   "execution_count": 13,
   "id": "abdc95d7",
   "metadata": {},
   "outputs": [],
   "source": [
    "normalize_columns = ['age', 'fnlwgt', 'capital-gain','capital-loss','hours-per-week']"
   ]
  },
  {
   "cell_type": "code",
   "execution_count": 14,
   "id": "6297fea7",
   "metadata": {},
   "outputs": [],
   "source": [
    "#create a function to show values\n",
    "def show_values(columns):\n",
    "  for column in columns:\n",
    "    max_val = df[column].max()\n",
    "    min_val = df[column].min()\n",
    "    mean_val = df[column].mean()\n",
    "    var_val = df[column].var()\n",
    "    print(column +': values=['+str(min_val)+','+str(max_val)+'] , mean='+str(mean_val)+' , var='+str(var_val))"
   ]
  },
  {
   "cell_type": "code",
   "execution_count": 15,
   "id": "93576a41",
   "metadata": {},
   "outputs": [
    {
     "name": "stdout",
     "output_type": "stream",
     "text": [
      "age: values=[17,90] , mean=38.437901995888865 , var=172.51941880039058\n",
      "fnlwgt: values=[13769,1484705] , mean=189793.83393011073 , var=11162550392.80617\n",
      "capital-gain: values=[0,99999] , mean=1092.0078575691268 , var=54853968.42891356\n",
      "capital-loss: values=[0,4356] , mean=88.37248856176646 , var=163457.17237785677\n",
      "hours-per-week: values=[1,99] , mean=40.93123798156621 , var=143.52002213363653\n"
     ]
    }
   ],
   "source": [
    "show_values(normalize_columns)"
   ]
  },
  {
   "cell_type": "code",
   "execution_count": 16,
   "id": "6ca328ca",
   "metadata": {},
   "outputs": [],
   "source": [
    "df_1 = df"
   ]
  },
  {
   "cell_type": "code",
   "execution_count": 17,
   "id": "9594a9ab",
   "metadata": {},
   "outputs": [
    {
     "name": "stdout",
     "output_type": "stream",
     "text": [
      "age: values=[-1.632189153530554,3.9257151708095672] , mean=2.959490472313236e-16 , var=1.0000331553993425\n",
      "fnlwgt: values=[-1.6660937164956222,12.256471482118583] , mean=-1.157264501499069e-17 , var=1.0000331553993544\n",
      "capital-gain: values=[-0.14744462210705175,13.35457797222187] , mean=5.785659951483037e-16 , var=1.0000331553995523\n",
      "capital-loss: values=[-0.21858597514475184,10.555813651103664] , mean=-7.284711333664981e-16 , var=1.0000331553986814\n",
      "hours-per-week: values=[-3.3332180727392635,4.847228806449517] , mean=-9.79528790005519e-16 , var=1.0000331553996653\n"
     ]
    }
   ],
   "source": [
    "#function normalize the data\n",
    "def normalize(columns):\n",
    "  scaler = preprocessing.StandardScaler()\n",
    "  df[columns] = scaler.fit_transform(df[columns])\n",
    "\n",
    "#calling function normalize and show values\n",
    "normalize(normalize_columns)\n",
    "show_values(normalize_columns)"
   ]
  },
  {
   "cell_type": "code",
   "execution_count": 18,
   "id": "256b0a1b",
   "metadata": {},
   "outputs": [
    {
     "data": {
      "text/html": [
       "<div>\n",
       "<style scoped>\n",
       "    .dataframe tbody tr th:only-of-type {\n",
       "        vertical-align: middle;\n",
       "    }\n",
       "\n",
       "    .dataframe tbody tr th {\n",
       "        vertical-align: top;\n",
       "    }\n",
       "\n",
       "    .dataframe thead th {\n",
       "        text-align: right;\n",
       "    }\n",
       "</style>\n",
       "<table border=\"1\" class=\"dataframe\">\n",
       "  <thead>\n",
       "    <tr style=\"text-align: right;\">\n",
       "      <th></th>\n",
       "      <th>age</th>\n",
       "      <th>fnlwgt</th>\n",
       "      <th>capital-gain</th>\n",
       "      <th>capital-loss</th>\n",
       "      <th>hours-per-week</th>\n",
       "      <th>salary</th>\n",
       "      <th>workclass_Federal-gov</th>\n",
       "      <th>workclass_Local-gov</th>\n",
       "      <th>workclass_Private</th>\n",
       "      <th>workclass_Self-emp-inc</th>\n",
       "      <th>...</th>\n",
       "      <th>native-country_Portugal</th>\n",
       "      <th>native-country_Puerto-Rico</th>\n",
       "      <th>native-country_Scotland</th>\n",
       "      <th>native-country_South</th>\n",
       "      <th>native-country_Taiwan</th>\n",
       "      <th>native-country_Thailand</th>\n",
       "      <th>native-country_Trinadad&amp;Tobago</th>\n",
       "      <th>native-country_United-States</th>\n",
       "      <th>native-country_Vietnam</th>\n",
       "      <th>native-country_Yugoslavia</th>\n",
       "    </tr>\n",
       "  </thead>\n",
       "  <tbody>\n",
       "    <tr>\n",
       "      <th>0</th>\n",
       "      <td>0.042796</td>\n",
       "      <td>-1.062722</td>\n",
       "      <td>0.146092</td>\n",
       "      <td>-0.218586</td>\n",
       "      <td>-0.077734</td>\n",
       "      <td>0</td>\n",
       "      <td>0</td>\n",
       "      <td>0</td>\n",
       "      <td>0</td>\n",
       "      <td>0</td>\n",
       "      <td>...</td>\n",
       "      <td>0</td>\n",
       "      <td>0</td>\n",
       "      <td>0</td>\n",
       "      <td>0</td>\n",
       "      <td>0</td>\n",
       "      <td>0</td>\n",
       "      <td>0</td>\n",
       "      <td>1</td>\n",
       "      <td>0</td>\n",
       "      <td>0</td>\n",
       "    </tr>\n",
       "    <tr>\n",
       "      <th>1</th>\n",
       "      <td>0.880288</td>\n",
       "      <td>-1.007871</td>\n",
       "      <td>-0.147445</td>\n",
       "      <td>-0.218586</td>\n",
       "      <td>-2.331531</td>\n",
       "      <td>0</td>\n",
       "      <td>0</td>\n",
       "      <td>0</td>\n",
       "      <td>0</td>\n",
       "      <td>0</td>\n",
       "      <td>...</td>\n",
       "      <td>0</td>\n",
       "      <td>0</td>\n",
       "      <td>0</td>\n",
       "      <td>0</td>\n",
       "      <td>0</td>\n",
       "      <td>0</td>\n",
       "      <td>0</td>\n",
       "      <td>1</td>\n",
       "      <td>0</td>\n",
       "      <td>0</td>\n",
       "    </tr>\n",
       "    <tr>\n",
       "      <th>2</th>\n",
       "      <td>-0.033340</td>\n",
       "      <td>0.244693</td>\n",
       "      <td>-0.147445</td>\n",
       "      <td>-0.218586</td>\n",
       "      <td>-0.077734</td>\n",
       "      <td>0</td>\n",
       "      <td>0</td>\n",
       "      <td>0</td>\n",
       "      <td>1</td>\n",
       "      <td>0</td>\n",
       "      <td>...</td>\n",
       "      <td>0</td>\n",
       "      <td>0</td>\n",
       "      <td>0</td>\n",
       "      <td>0</td>\n",
       "      <td>0</td>\n",
       "      <td>0</td>\n",
       "      <td>0</td>\n",
       "      <td>1</td>\n",
       "      <td>0</td>\n",
       "      <td>0</td>\n",
       "    </tr>\n",
       "    <tr>\n",
       "      <th>3</th>\n",
       "      <td>1.108695</td>\n",
       "      <td>0.425240</td>\n",
       "      <td>-0.147445</td>\n",
       "      <td>-0.218586</td>\n",
       "      <td>-0.077734</td>\n",
       "      <td>0</td>\n",
       "      <td>0</td>\n",
       "      <td>0</td>\n",
       "      <td>1</td>\n",
       "      <td>0</td>\n",
       "      <td>...</td>\n",
       "      <td>0</td>\n",
       "      <td>0</td>\n",
       "      <td>0</td>\n",
       "      <td>0</td>\n",
       "      <td>0</td>\n",
       "      <td>0</td>\n",
       "      <td>0</td>\n",
       "      <td>1</td>\n",
       "      <td>0</td>\n",
       "      <td>0</td>\n",
       "    </tr>\n",
       "    <tr>\n",
       "      <th>4</th>\n",
       "      <td>-0.794697</td>\n",
       "      <td>1.406658</td>\n",
       "      <td>-0.147445</td>\n",
       "      <td>-0.218586</td>\n",
       "      <td>-0.077734</td>\n",
       "      <td>0</td>\n",
       "      <td>0</td>\n",
       "      <td>0</td>\n",
       "      <td>1</td>\n",
       "      <td>0</td>\n",
       "      <td>...</td>\n",
       "      <td>0</td>\n",
       "      <td>0</td>\n",
       "      <td>0</td>\n",
       "      <td>0</td>\n",
       "      <td>0</td>\n",
       "      <td>0</td>\n",
       "      <td>0</td>\n",
       "      <td>0</td>\n",
       "      <td>0</td>\n",
       "      <td>0</td>\n",
       "    </tr>\n",
       "  </tbody>\n",
       "</table>\n",
       "<p>5 rows × 104 columns</p>\n",
       "</div>"
      ],
      "text/plain": [
       "        age    fnlwgt  capital-gain  capital-loss  hours-per-week  salary  \\\n",
       "0  0.042796 -1.062722      0.146092     -0.218586       -0.077734       0   \n",
       "1  0.880288 -1.007871     -0.147445     -0.218586       -2.331531       0   \n",
       "2 -0.033340  0.244693     -0.147445     -0.218586       -0.077734       0   \n",
       "3  1.108695  0.425240     -0.147445     -0.218586       -0.077734       0   \n",
       "4 -0.794697  1.406658     -0.147445     -0.218586       -0.077734       0   \n",
       "\n",
       "   workclass_Federal-gov  workclass_Local-gov  workclass_Private  \\\n",
       "0                      0                    0                  0   \n",
       "1                      0                    0                  0   \n",
       "2                      0                    0                  1   \n",
       "3                      0                    0                  1   \n",
       "4                      0                    0                  1   \n",
       "\n",
       "   workclass_Self-emp-inc  ...  native-country_Portugal  \\\n",
       "0                       0  ...                        0   \n",
       "1                       0  ...                        0   \n",
       "2                       0  ...                        0   \n",
       "3                       0  ...                        0   \n",
       "4                       0  ...                        0   \n",
       "\n",
       "   native-country_Puerto-Rico  native-country_Scotland  native-country_South  \\\n",
       "0                           0                        0                     0   \n",
       "1                           0                        0                     0   \n",
       "2                           0                        0                     0   \n",
       "3                           0                        0                     0   \n",
       "4                           0                        0                     0   \n",
       "\n",
       "   native-country_Taiwan  native-country_Thailand  \\\n",
       "0                      0                        0   \n",
       "1                      0                        0   \n",
       "2                      0                        0   \n",
       "3                      0                        0   \n",
       "4                      0                        0   \n",
       "\n",
       "   native-country_Trinadad&Tobago  native-country_United-States  \\\n",
       "0                               0                             1   \n",
       "1                               0                             1   \n",
       "2                               0                             1   \n",
       "3                               0                             1   \n",
       "4                               0                             0   \n",
       "\n",
       "   native-country_Vietnam  native-country_Yugoslavia  \n",
       "0                       0                          0  \n",
       "1                       0                          0  \n",
       "2                       0                          0  \n",
       "3                       0                          0  \n",
       "4                       0                          0  \n",
       "\n",
       "[5 rows x 104 columns]"
      ]
     },
     "execution_count": 18,
     "metadata": {},
     "output_type": "execute_result"
    }
   ],
   "source": [
    "df.head()"
   ]
  },
  {
   "cell_type": "markdown",
   "id": "835f0a58",
   "metadata": {},
   "source": [
    "##### 1.5. Split the data to train, validation, and test"
   ]
  },
  {
   "cell_type": "code",
   "execution_count": 19,
   "id": "be80117e",
   "metadata": {},
   "outputs": [
    {
     "name": "stdout",
     "output_type": "stream",
     "text": [
      "(24129, 103) (24129,)\n",
      "(6033, 103) (6033,)\n"
     ]
    }
   ],
   "source": [
    "from sklearn.model_selection import train_test_split\n",
    "\n",
    "x_data = df.drop('salary',axis=1)\n",
    "y_labels = df['salary']\n",
    "\n",
    "X_train, X_test, y_train, y_test = train_test_split(x_data,y_labels,test_size=0.2,shuffle=True)\n",
    "# X_train, X_valid, y_train, y_valid = train_test_split(X_train,y_train,test_size=0.2,shuffle=True)\n",
    "\n",
    "print(X_train.shape, y_train.shape)\n",
    "# print(X_valid.shape, y_valid.shape)\n",
    "print(X_test.shape, y_test.shape)"
   ]
  },
  {
   "cell_type": "code",
   "execution_count": 20,
   "id": "d633c81c",
   "metadata": {},
   "outputs": [
    {
     "data": {
      "text/plain": [
       "(103,)"
      ]
     },
     "execution_count": 20,
     "metadata": {},
     "output_type": "execute_result"
    }
   ],
   "source": [
    "X_train.shape[1:]"
   ]
  },
  {
   "cell_type": "markdown",
   "id": "65b9a92d",
   "metadata": {},
   "source": [
    "### 2. Multi Layer Perceptron Model"
   ]
  },
  {
   "cell_type": "markdown",
   "id": "7569d869",
   "metadata": {},
   "source": [
    "#### 2.1. Execution MLP Model"
   ]
  },
  {
   "cell_type": "code",
   "execution_count": 21,
   "id": "5ca0aa82",
   "metadata": {},
   "outputs": [],
   "source": [
    "from keras import backend as K\n",
    "def f1(y_true, y_pred):\n",
    "    def recall(y_true, y_pred):\n",
    "        true_positives = K.sum(K.round(K.clip(y_true * y_pred, 0, 1)))\n",
    "        possible_positives = K.sum(K.round(K.clip(y_true, 0, 1)))\n",
    "        recall = true_positives / (possible_positives + K.epsilon())\n",
    "        return recall\n",
    "\n",
    "    def precision(y_true, y_pred):\n",
    "        true_positives = K.sum(K.round(K.clip(y_true * y_pred, 0, 1)))\n",
    "        predicted_positives = K.sum(K.round(K.clip(y_pred, 0, 1)))\n",
    "        precision = true_positives / (predicted_positives + K.epsilon())\n",
    "        return precision\n",
    "        \n",
    "    precision = precision(y_true, y_pred)\n",
    "    recall = recall(y_true, y_pred)\n",
    "    return 2*((precision*recall)/(precision+recall+K.epsilon()))"
   ]
  },
  {
   "cell_type": "code",
   "execution_count": 22,
   "id": "8fa09965",
   "metadata": {},
   "outputs": [],
   "source": [
    "import numpy as np\n",
    "import matplotlib.pyplot as plt\n",
    "import pandas as pd\n",
    "import keras\n",
    "from keras.models import Sequential\n",
    "from keras.layers import Dense\n",
    "from sklearn.model_selection import train_test_split\n",
    "from matplotlib import pyplot\n",
    "from keras.utils import plot_model\n",
    "\n",
    "from sklearn.preprocessing import StandardScaler\n",
    "sc = StandardScaler()\n",
    "X_train = sc.fit_transform(X_train)\n",
    "X_test = sc.transform(X_test)\n",
    "\n",
    "def Model():\n",
    "    classifier = Sequential()\n",
    "    classifier.add(Dense(units = 12, kernel_initializer = 'uniform', activation = 'relu', input_dim = 103))\n",
    "    classifier.add(Dense(100, activation=\"relu\"))\n",
    "    classifier.add(Dense(50, activation=\"relu\",kernel_regularizer=keras.regularizers.l2(l=0.1),name='hidden_layer'))\n",
    "    classifier.add(Dense(units = 8, kernel_initializer = 'uniform', activation = 'relu'))\n",
    "    classifier.add(Dense(units = 1, kernel_initializer = 'uniform', activation = 'sigmoid'))\n",
    "    classifier.compile(optimizer = 'adam', \n",
    "                       loss = ['mean_squared_error', keras.losses.BinaryCrossentropy()], \n",
    "                       metrics = ['mse', 'acc', 'Precision', 'Recall',f1])\n",
    "    return classifier\n",
    "\n",
    "classifier = Model()"
   ]
  },
  {
   "cell_type": "code",
   "execution_count": 23,
   "id": "f77fe4a7",
   "metadata": {},
   "outputs": [],
   "source": [
    "import os\n",
    "import time\n",
    "path = \"G:/NTUST/Semester 1/Machine Learning/Homework/HW3/Answer/\"\n",
    "root_logdir = os.path.join(path, \"my_logs\")\n",
    "#os.mkdir(root_logdir)\n",
    "def get_run_logdir():\n",
    "    run_id = time.strftime(\"run_%Y_%m_%d-%H_%M_%S\")\n",
    "    return os.path.join(root_logdir, run_id)\n",
    "run_logdir = get_run_logdir()\n",
    "tensorboard_cb = keras.callbacks.TensorBoard(run_logdir,histogram_freq=1)"
   ]
  },
  {
   "cell_type": "code",
   "execution_count": 24,
   "id": "d4891e44",
   "metadata": {},
   "outputs": [
    {
     "name": "stdout",
     "output_type": "stream",
     "text": [
      "Epoch 1/25\n",
      "1810/1810 [==============================] - 4s 2ms/step - loss: 0.3526 - mse: 0.1284 - acc: 0.8153 - precision: 0.7102 - recall: 0.4276 - f1: 0.4072 - val_loss: 0.1301 - val_mse: 0.1250 - val_acc: 0.8342 - val_precision: 0.7030 - val_recall: 0.5710 - val_f1: 0.5480\n",
      "Epoch 2/25\n",
      "1810/1810 [==============================] - 3s 2ms/step - loss: 0.1161 - mse: 0.1134 - acc: 0.8428 - precision: 0.6898 - recall: 0.6626 - f1: 0.6043 - val_loss: 0.1182 - val_mse: 0.1149 - val_acc: 0.8387 - val_precision: 0.6767 - val_recall: 0.6662 - val_f1: 0.5952\n",
      "Epoch 3/25\n",
      "1810/1810 [==============================] - 3s 2ms/step - loss: 0.1109 - mse: 0.1083 - acc: 0.8505 - precision: 0.7071 - recall: 0.6754 - f1: 0.6128 - val_loss: 0.1208 - val_mse: 0.1168 - val_acc: 0.8399 - val_precision: 0.7263 - val_recall: 0.5657 - val_f1: 0.5457\n",
      "Epoch 4/25\n",
      "1810/1810 [==============================] - 3s 2ms/step - loss: 0.1081 - mse: 0.1056 - acc: 0.8537 - precision: 0.7146 - recall: 0.6803 - f1: 0.6160 - val_loss: 0.1136 - val_mse: 0.1115 - val_acc: 0.8430 - val_precision: 0.6907 - val_recall: 0.6615 - val_f1: 0.5964\n",
      "Epoch 5/25\n",
      "1810/1810 [==============================] - 3s 2ms/step - loss: 0.1064 - mse: 0.1041 - acc: 0.8540 - precision: 0.7146 - recall: 0.6823 - f1: 0.6201 - val_loss: 0.1126 - val_mse: 0.1111 - val_acc: 0.8369 - val_precision: 0.6624 - val_recall: 0.6944 - val_f1: 0.6013\n",
      "Epoch 6/25\n",
      "1810/1810 [==============================] - 3s 1ms/step - loss: 0.1037 - mse: 0.1017 - acc: 0.8557 - precision: 0.7195 - recall: 0.6825 - f1: 0.6117 - val_loss: 0.1122 - val_mse: 0.1103 - val_acc: 0.8420 - val_precision: 0.6995 - val_recall: 0.6334 - val_f1: 0.5829\n",
      "Epoch 7/25\n",
      "1810/1810 [==============================] - 3s 2ms/step - loss: 0.1021 - mse: 0.1002 - acc: 0.8610 - precision: 0.7340 - recall: 0.6868 - f1: 0.6258 - val_loss: 0.1143 - val_mse: 0.1120 - val_acc: 0.8430 - val_precision: 0.7277 - val_recall: 0.5838 - val_f1: 0.5606\n",
      "Epoch 8/25\n",
      "1810/1810 [==============================] - 3s 2ms/step - loss: 0.1012 - mse: 0.0995 - acc: 0.8586 - precision: 0.7289 - recall: 0.6819 - f1: 0.6190 - val_loss: 0.1191 - val_mse: 0.1160 - val_acc: 0.8409 - val_precision: 0.7613 - val_recall: 0.5194 - val_f1: 0.5201\n",
      "Epoch 9/25\n",
      "1810/1810 [==============================] - 3s 2ms/step - loss: 0.1008 - mse: 0.0991 - acc: 0.8579 - precision: 0.7259 - recall: 0.6839 - f1: 0.6321 - val_loss: 0.1097 - val_mse: 0.1083 - val_acc: 0.8437 - val_precision: 0.6908 - val_recall: 0.6662 - val_f1: 0.5997\n",
      "Epoch 10/25\n",
      "1810/1810 [==============================] - 3s 2ms/step - loss: 0.0995 - mse: 0.0979 - acc: 0.8608 - precision: 0.7377 - recall: 0.6785 - f1: 0.6240 - val_loss: 0.1173 - val_mse: 0.1165 - val_acc: 0.8251 - val_precision: 0.6113 - val_recall: 0.8043 - val_f1: 0.6436\n",
      "Epoch 11/25\n",
      "1810/1810 [==============================] - 3s 1ms/step - loss: 0.0987 - mse: 0.0971 - acc: 0.8614 - precision: 0.7364 - recall: 0.6848 - f1: 0.6195 - val_loss: 0.1105 - val_mse: 0.1088 - val_acc: 0.8455 - val_precision: 0.7141 - val_recall: 0.6260 - val_f1: 0.5843\n",
      "Epoch 12/25\n",
      "1810/1810 [==============================] - 3s 2ms/step - loss: 0.0983 - mse: 0.0968 - acc: 0.8615 - precision: 0.7349 - recall: 0.6881 - f1: 0.6360 - val_loss: 0.1100 - val_mse: 0.1086 - val_acc: 0.8432 - val_precision: 0.7223 - val_recall: 0.5945 - val_f1: 0.5686\n",
      "Epoch 13/25\n",
      "1810/1810 [==============================] - 3s 1ms/step - loss: 0.0979 - mse: 0.0965 - acc: 0.8631 - precision: 0.7421 - recall: 0.6845 - f1: 0.6310 - val_loss: 0.1095 - val_mse: 0.1084 - val_acc: 0.8427 - val_precision: 0.6744 - val_recall: 0.7038 - val_f1: 0.6190\n",
      "Epoch 14/25\n",
      "1810/1810 [==============================] - 3s 2ms/step - loss: 0.0973 - mse: 0.0959 - acc: 0.8626 - precision: 0.7414 - recall: 0.6828 - f1: 0.6304 - val_loss: 0.1082 - val_mse: 0.1071 - val_acc: 0.8467 - val_precision: 0.6965 - val_recall: 0.6736 - val_f1: 0.6082\n",
      "Epoch 15/25\n",
      "1810/1810 [==============================] - 3s 1ms/step - loss: 0.0972 - mse: 0.0959 - acc: 0.8618 - precision: 0.7383 - recall: 0.6839 - f1: 0.6319 - val_loss: 0.1091 - val_mse: 0.1082 - val_acc: 0.8430 - val_precision: 0.6863 - val_recall: 0.6729 - val_f1: 0.6043\n",
      "Epoch 16/25\n",
      "1810/1810 [==============================] - 3s 1ms/step - loss: 0.0961 - mse: 0.0949 - acc: 0.8665 - precision: 0.7499 - recall: 0.6908 - f1: 0.6434 - val_loss: 0.1121 - val_mse: 0.1105 - val_acc: 0.8444 - val_precision: 0.7386 - val_recall: 0.5737 - val_f1: 0.5565\n",
      "Epoch 17/25\n",
      "1810/1810 [==============================] - 3s 1ms/step - loss: 0.0966 - mse: 0.0953 - acc: 0.8620 - precision: 0.7394 - recall: 0.6828 - f1: 0.6273 - val_loss: 0.1105 - val_mse: 0.1096 - val_acc: 0.8410 - val_precision: 0.6604 - val_recall: 0.7353 - val_f1: 0.6336\n",
      "Epoch 18/25\n",
      "1810/1810 [==============================] - 3s 2ms/step - loss: 0.0956 - mse: 0.0944 - acc: 0.8634 - precision: 0.7417 - recall: 0.6870 - f1: 0.6356 - val_loss: 0.1111 - val_mse: 0.1094 - val_acc: 0.8454 - val_precision: 0.7407 - val_recall: 0.5764 - val_f1: 0.5547\n",
      "Epoch 19/25\n",
      "1810/1810 [==============================] - 3s 2ms/step - loss: 0.0952 - mse: 0.0940 - acc: 0.8665 - precision: 0.7502 - recall: 0.6903 - f1: 0.6317 - val_loss: 0.1103 - val_mse: 0.1090 - val_acc: 0.8450 - val_precision: 0.7251 - val_recall: 0.6012 - val_f1: 0.5664\n",
      "Epoch 20/25\n",
      "1810/1810 [==============================] - 3s 1ms/step - loss: 0.0953 - mse: 0.0941 - acc: 0.8664 - precision: 0.7488 - recall: 0.6919 - f1: 0.6409 - val_loss: 0.1100 - val_mse: 0.1093 - val_acc: 0.8409 - val_precision: 0.6646 - val_recall: 0.7198 - val_f1: 0.6269\n",
      "Epoch 21/25\n",
      "1810/1810 [==============================] - 3s 1ms/step - loss: 0.0946 - mse: 0.0935 - acc: 0.8653 - precision: 0.7480 - recall: 0.6870 - f1: 0.6406 - val_loss: 0.1098 - val_mse: 0.1086 - val_acc: 0.8449 - val_precision: 0.7122 - val_recall: 0.6253 - val_f1: 0.5865\n",
      "Epoch 22/25\n",
      "1810/1810 [==============================] - 3s 1ms/step - loss: 0.0943 - mse: 0.0932 - acc: 0.8667 - precision: 0.7491 - recall: 0.6930 - f1: 0.6402 - val_loss: 0.1103 - val_mse: 0.1090 - val_acc: 0.8445 - val_precision: 0.7098 - val_recall: 0.6280 - val_f1: 0.5850\n",
      "Epoch 23/25\n",
      "1810/1810 [==============================] - 3s 1ms/step - loss: 0.0940 - mse: 0.0930 - acc: 0.8677 - precision: 0.7537 - recall: 0.6906 - f1: 0.6455 - val_loss: 0.1093 - val_mse: 0.1085 - val_acc: 0.8420 - val_precision: 0.6822 - val_recall: 0.6763 - val_f1: 0.6039\n",
      "Epoch 24/25\n",
      "1810/1810 [==============================] - 3s 2ms/step - loss: 0.0936 - mse: 0.0926 - acc: 0.8685 - precision: 0.7534 - recall: 0.6964 - f1: 0.6420 - val_loss: 0.1086 - val_mse: 0.1078 - val_acc: 0.8454 - val_precision: 0.7097 - val_recall: 0.6340 - val_f1: 0.5889\n",
      "Epoch 25/25\n",
      "1810/1810 [==============================] - 3s 2ms/step - loss: 0.0935 - mse: 0.0925 - acc: 0.8673 - precision: 0.7529 - recall: 0.6901 - f1: 0.6373 - val_loss: 0.1100 - val_mse: 0.1092 - val_acc: 0.8425 - val_precision: 0.6814 - val_recall: 0.6823 - val_f1: 0.6088\n"
     ]
    }
   ],
   "source": [
    "history = classifier.fit(X_train, y_train, epochs=25, validation_split=0.25, batch_size = 10, callbacks=[tensorboard_cb])"
   ]
  },
  {
   "cell_type": "code",
   "execution_count": 25,
   "id": "96b53e26",
   "metadata": {},
   "outputs": [],
   "source": [
    "classifier.save(\"MLPmodel.h5\")"
   ]
  },
  {
   "cell_type": "code",
   "execution_count": 26,
   "id": "878b5450",
   "metadata": {},
   "outputs": [
    {
     "name": "stdout",
     "output_type": "stream",
     "text": [
      "Model: \"sequential\"\n",
      "_________________________________________________________________\n",
      " Layer (type)                Output Shape              Param #   \n",
      "=================================================================\n",
      " dense (Dense)               (None, 12)                1248      \n",
      "                                                                 \n",
      " dense_1 (Dense)             (None, 100)               1300      \n",
      "                                                                 \n",
      " hidden_layer (Dense)        (None, 50)                5050      \n",
      "                                                                 \n",
      " dense_2 (Dense)             (None, 8)                 408       \n",
      "                                                                 \n",
      " dense_3 (Dense)             (None, 1)                 9         \n",
      "                                                                 \n",
      "=================================================================\n",
      "Total params: 8,015\n",
      "Trainable params: 8,015\n",
      "Non-trainable params: 0\n",
      "_________________________________________________________________\n"
     ]
    }
   ],
   "source": [
    "classifier.summary()"
   ]
  },
  {
   "cell_type": "code",
   "execution_count": 27,
   "id": "b3fdf566",
   "metadata": {},
   "outputs": [
    {
     "name": "stdout",
     "output_type": "stream",
     "text": [
      "189/189 [==============================] - 0s 993us/step - loss: 0.1076 - mse: 0.1068 - acc: 0.8454 - precision: 0.6985 - recall: 0.6935 - f1: 0.6782\n"
     ]
    },
    {
     "data": {
      "text/plain": [
       "[0.10757026821374893,\n",
       " 0.10678686201572418,\n",
       " 0.8453505635261536,\n",
       " 0.6984957456588745,\n",
       " 0.6935064792633057,\n",
       " 0.6781830787658691]"
      ]
     },
     "execution_count": 27,
     "metadata": {},
     "output_type": "execute_result"
    }
   ],
   "source": [
    "classifier.evaluate(X_test, y_test)"
   ]
  },
  {
   "cell_type": "code",
   "execution_count": 28,
   "id": "88f184f3",
   "metadata": {},
   "outputs": [
    {
     "name": "stdout",
     "output_type": "stream",
     "text": [
      "\n",
      " dict_keys(['loss', 'mse', 'acc', 'precision', 'recall', 'f1', 'val_loss', 'val_mse', 'val_acc', 'val_precision', 'val_recall', 'val_f1'])\n"
     ]
    }
   ],
   "source": [
    "print('\\n', history.history.keys())"
   ]
  },
  {
   "cell_type": "code",
   "execution_count": 29,
   "id": "7b5d295c",
   "metadata": {},
   "outputs": [
    {
     "data": {
      "image/png": "[encoded data removed]",
      "text/plain": [
       "<Figure size 800x800 with 1 Axes>"
      ]
     },
     "metadata": {},
     "output_type": "display_data"
    }
   ],
   "source": [
    "pd.DataFrame({'loss':history.history['loss'],\n",
    "              'valid_loss':history.history['val_loss'],\n",
    "              }).plot(figsize=(8, 8))\n",
    "plt.grid(True)"
   ]
  },
  {
   "cell_type": "code",
   "execution_count": 30,
   "id": "6cfb7101",
   "metadata": {},
   "outputs": [
    {
     "data": {
      "image/png": "[encoded data removed]",
      "text/plain": [
       "<Figure size 800x800 with 1 Axes>"
      ]
     },
     "metadata": {},
     "output_type": "display_data"
    }
   ],
   "source": [
    "pd.DataFrame({'accuracy':history.history['acc'],\n",
    "              'val_accuracy':history.history['val_acc']\n",
    "              }).plot(figsize=(8, 8))\n",
    "plt.grid(True)"
   ]
  },
  {
   "cell_type": "code",
   "execution_count": 31,
   "id": "1c9f09eb",
   "metadata": {},
   "outputs": [
    {
     "name": "stdout",
     "output_type": "stream",
     "text": [
      "189/189 [==============================] - 0s 767us/step\n"
     ]
    }
   ],
   "source": [
    "y_pred = classifier.predict(X_test)\n",
    "classes = np.argmax(y_pred, axis=1)\n",
    "y_pred = (y_pred > 0.5)"
   ]
  },
  {
   "cell_type": "code",
   "execution_count": 32,
   "id": "0442b80c",
   "metadata": {},
   "outputs": [
    {
     "name": "stdout",
     "output_type": "stream",
     "text": [
      "[[4032  461]\n",
      " [ 472 1068]]\n"
     ]
    }
   ],
   "source": [
    "import pandas as pd\n",
    "from sklearn.model_selection import train_test_split\n",
    "from sklearn.preprocessing import StandardScaler\n",
    "from sklearn.neural_network import MLPClassifier\n",
    "from sklearn.metrics import classification_report\n",
    "from sklearn.metrics import confusion_matrix\n",
    "\n",
    "print(confusion_matrix(y_test,y_pred))"
   ]
  },
  {
   "cell_type": "code",
   "execution_count": 33,
   "id": "104803c3",
   "metadata": {},
   "outputs": [
    {
     "name": "stdout",
     "output_type": "stream",
     "text": [
      "MLP model accuracy score: 0.8454\n"
     ]
    }
   ],
   "source": [
    "from sklearn.metrics import accuracy_score, classification_report,confusion_matrix\n",
    "\n",
    "print('MLP model accuracy score: {0:0.4f}'. format(accuracy_score(y_test, y_pred)))"
   ]
  },
  {
   "cell_type": "code",
   "execution_count": 34,
   "id": "17c76b4c",
   "metadata": {},
   "outputs": [
    {
     "name": "stdout",
     "output_type": "stream",
     "text": [
      "              precision    recall  f1-score   support\n",
      "\n",
      "           0       0.90      0.90      0.90      4493\n",
      "           1       0.70      0.69      0.70      1540\n",
      "\n",
      "    accuracy                           0.85      6033\n",
      "   macro avg       0.80      0.80      0.80      6033\n",
      "weighted avg       0.84      0.85      0.85      6033\n",
      "\n"
     ]
    },
    {
     "data": {
      "image/png": "[encoded data removed]",
      "text/plain": [
       "<Figure size 700x700 with 2 Axes>"
      ]
     },
     "metadata": {},
     "output_type": "display_data"
    }
   ],
   "source": [
    "from sklearn.metrics import confusion_matrix\n",
    "import seaborn as sns\n",
    "import itertools\n",
    "\n",
    "plt.figure(figsize=(7,7))\n",
    "ax = sns.heatmap(confusion_matrix(y_test, y_pred), annot=True,fmt=\"d\",cmap = 'Pastel1')\n",
    "ax.set_xlabel('MLP')\n",
    "\n",
    "plt.ylabel('True Label')\n",
    "plt.xlabel('Predicted Label')\n",
    "pass\n",
    "\n",
    "print(classification_report(y_test, y_pred))"
   ]
  },
  {
   "cell_type": "markdown",
   "id": "06af859b",
   "metadata": {},
   "source": [
    "### 3. CNN Model"
   ]
  },
  {
   "cell_type": "code",
   "execution_count": 35,
   "id": "455f4ded",
   "metadata": {},
   "outputs": [],
   "source": [
    "from keras.models import Sequential\n",
    "from keras.layers import Dense, Conv1D, Flatten, MaxPooling1D\n",
    "from sklearn.model_selection import train_test_split\n",
    "from sklearn.metrics import confusion_matrix\n",
    "from sklearn.datasets import load_iris\n",
    "from numpy import unique"
   ]
  },
  {
   "cell_type": "code",
   "execution_count": 36,
   "id": "2fa1aea8",
   "metadata": {},
   "outputs": [],
   "source": [
    "x_data = df.drop('salary',axis=1)\n",
    "y_labels = df['salary']"
   ]
  },
  {
   "cell_type": "code",
   "execution_count": 37,
   "id": "7ff29dbb",
   "metadata": {},
   "outputs": [
    {
     "name": "stdout",
     "output_type": "stream",
     "text": [
      "(30162, 103)\n"
     ]
    }
   ],
   "source": [
    "print(x_data.shape)"
   ]
  },
  {
   "cell_type": "code",
   "execution_count": 38,
   "id": "ac005039",
   "metadata": {},
   "outputs": [],
   "source": [
    "from sklearn.preprocessing import StandardScaler\n",
    "sc = StandardScaler()\n",
    "x_data = sc.fit_transform(x_data)"
   ]
  },
  {
   "cell_type": "code",
   "execution_count": 39,
   "id": "e24d220b",
   "metadata": {},
   "outputs": [
    {
     "name": "stdout",
     "output_type": "stream",
     "text": [
      "(30162, 103, 1)\n"
     ]
    }
   ],
   "source": [
    "x_data = x_data.reshape(x_data.shape[0], x_data.shape[1], 1)\n",
    "print(x_data.shape)"
   ]
  },
  {
   "cell_type": "code",
   "execution_count": 40,
   "id": "23e4328e",
   "metadata": {},
   "outputs": [
    {
     "name": "stdout",
     "output_type": "stream",
     "text": [
      "[0 1]\n",
      "1\n"
     ]
    }
   ],
   "source": [
    "print(unique(y_labels))\n",
    "print(unique(y_labels).sum())"
   ]
  },
  {
   "cell_type": "code",
   "execution_count": 41,
   "id": "e1b79ebb",
   "metadata": {},
   "outputs": [],
   "source": [
    "xtrain, xtest, ytrain, ytest = train_test_split(x_data, y_labels, test_size=0.2)"
   ]
  },
  {
   "cell_type": "code",
   "execution_count": 42,
   "id": "05cd6239",
   "metadata": {},
   "outputs": [
    {
     "name": "stdout",
     "output_type": "stream",
     "text": [
      "Model: \"sequential_1\"\n",
      "_________________________________________________________________\n",
      " Layer (type)                Output Shape              Param #   \n",
      "=================================================================\n",
      " conv1d (Conv1D)             (None, 102, 64)           192       \n",
      "                                                                 \n",
      " max_pooling1d (MaxPooling1D  (None, 51, 64)           0         \n",
      " )                                                               \n",
      "                                                                 \n",
      " conv1d_1 (Conv1D)           (None, 51, 32)            4128      \n",
      "                                                                 \n",
      " max_pooling1d_1 (MaxPooling  (None, 25, 32)           0         \n",
      " 1D)                                                             \n",
      "                                                                 \n",
      " conv1d_2 (Conv1D)           (None, 25, 16)            1040      \n",
      "                                                                 \n",
      " max_pooling1d_2 (MaxPooling  (None, 12, 16)           0         \n",
      " 1D)                                                             \n",
      "                                                                 \n",
      " dense_4 (Dense)             (None, 12, 16)            272       \n",
      "                                                                 \n",
      " max_pooling1d_3 (MaxPooling  (None, 6, 16)            0         \n",
      " 1D)                                                             \n",
      "                                                                 \n",
      " flatten (Flatten)           (None, 96)                0         \n",
      "                                                                 \n",
      " dense_5 (Dense)             (None, 3)                 291       \n",
      "                                                                 \n",
      "=================================================================\n",
      "Total params: 5,923\n",
      "Trainable params: 5,923\n",
      "Non-trainable params: 0\n",
      "_________________________________________________________________\n"
     ]
    }
   ],
   "source": [
    "model = Sequential()\n",
    "model.add(Conv1D(64, 2, activation=\"relu\", input_shape=(103,1)))\n",
    "model.add(MaxPooling1D(pool_size=2))\n",
    "model.add(Conv1D(filters=32, kernel_size=2, padding='same', activation='relu'))\n",
    "model.add(MaxPooling1D(pool_size=2))\n",
    "model.add(Conv1D(filters=16, kernel_size=2, padding='same', activation='relu'))\n",
    "model.add(MaxPooling1D(pool_size=2))\n",
    "model.add(Dense(16, activation=\"relu\"))\n",
    "model.add(MaxPooling1D())\n",
    "model.add(Flatten())\n",
    "model.add(Dense(3, activation = 'softmax'))\n",
    "model.compile(loss = 'sparse_categorical_crossentropy', \n",
    "     optimizer = \"adam\", metrics = ['accuracy'])\n",
    "model.summary()"
   ]
  },
  {
   "cell_type": "code",
   "execution_count": 43,
   "id": "ba888f9b",
   "metadata": {},
   "outputs": [
    {
     "name": "stdout",
     "output_type": "stream",
     "text": [
      "Epoch 1/25\n",
      "724/724 [==============================] - 4s 5ms/step - loss: 0.4414 - accuracy: 0.7944 - val_loss: 0.3531 - val_accuracy: 0.8318\n",
      "Epoch 2/25\n",
      "724/724 [==============================] - 3s 5ms/step - loss: 0.3681 - accuracy: 0.8260 - val_loss: 0.3599 - val_accuracy: 0.8276\n",
      "Epoch 3/25\n",
      "724/724 [==============================] - 3s 5ms/step - loss: 0.3579 - accuracy: 0.8319 - val_loss: 0.3395 - val_accuracy: 0.8362\n",
      "Epoch 4/25\n",
      "724/724 [==============================] - 3s 5ms/step - loss: 0.3517 - accuracy: 0.8347 - val_loss: 0.3410 - val_accuracy: 0.8377\n",
      "Epoch 5/25\n",
      "724/724 [==============================] - 3s 5ms/step - loss: 0.3462 - accuracy: 0.8391 - val_loss: 0.3336 - val_accuracy: 0.8391\n",
      "Epoch 6/25\n",
      "724/724 [==============================] - 3s 4ms/step - loss: 0.3443 - accuracy: 0.8383 - val_loss: 0.3308 - val_accuracy: 0.8437\n",
      "Epoch 7/25\n",
      "724/724 [==============================] - 3s 5ms/step - loss: 0.3399 - accuracy: 0.8425 - val_loss: 0.3269 - val_accuracy: 0.8460\n",
      "Epoch 8/25\n",
      "724/724 [==============================] - 3s 5ms/step - loss: 0.3375 - accuracy: 0.8431 - val_loss: 0.3240 - val_accuracy: 0.8475\n",
      "Epoch 9/25\n",
      "724/724 [==============================] - 3s 4ms/step - loss: 0.3350 - accuracy: 0.8433 - val_loss: 0.3258 - val_accuracy: 0.8473\n",
      "Epoch 10/25\n",
      "724/724 [==============================] - 3s 5ms/step - loss: 0.3336 - accuracy: 0.8439 - val_loss: 0.3195 - val_accuracy: 0.8460\n",
      "Epoch 11/25\n",
      "724/724 [==============================] - 3s 4ms/step - loss: 0.3310 - accuracy: 0.8432 - val_loss: 0.3200 - val_accuracy: 0.8493\n",
      "Epoch 12/25\n",
      "724/724 [==============================] - 3s 5ms/step - loss: 0.3307 - accuracy: 0.8455 - val_loss: 0.3225 - val_accuracy: 0.8468\n",
      "Epoch 13/25\n",
      "724/724 [==============================] - 3s 5ms/step - loss: 0.3272 - accuracy: 0.8488 - val_loss: 0.3215 - val_accuracy: 0.8473\n",
      "Epoch 14/25\n",
      "724/724 [==============================] - 3s 5ms/step - loss: 0.3277 - accuracy: 0.8459 - val_loss: 0.3176 - val_accuracy: 0.8510\n",
      "Epoch 15/25\n",
      "724/724 [==============================] - 3s 5ms/step - loss: 0.3260 - accuracy: 0.8480 - val_loss: 0.3210 - val_accuracy: 0.8472\n",
      "Epoch 16/25\n",
      "724/724 [==============================] - 3s 5ms/step - loss: 0.3239 - accuracy: 0.8480 - val_loss: 0.3208 - val_accuracy: 0.8507\n",
      "Epoch 17/25\n",
      "724/724 [==============================] - 3s 5ms/step - loss: 0.3247 - accuracy: 0.8484 - val_loss: 0.3170 - val_accuracy: 0.8488\n",
      "Epoch 18/25\n",
      "724/724 [==============================] - 3s 5ms/step - loss: 0.3239 - accuracy: 0.8484 - val_loss: 0.3197 - val_accuracy: 0.8512\n",
      "Epoch 19/25\n",
      "724/724 [==============================] - 3s 5ms/step - loss: 0.3232 - accuracy: 0.8496 - val_loss: 0.3193 - val_accuracy: 0.8492\n",
      "Epoch 20/25\n",
      "724/724 [==============================] - 3s 4ms/step - loss: 0.3227 - accuracy: 0.8497 - val_loss: 0.3210 - val_accuracy: 0.8477\n",
      "Epoch 21/25\n",
      "724/724 [==============================] - 4s 5ms/step - loss: 0.3217 - accuracy: 0.8509 - val_loss: 0.3150 - val_accuracy: 0.8502\n",
      "Epoch 22/25\n",
      "724/724 [==============================] - 4s 5ms/step - loss: 0.3215 - accuracy: 0.8493 - val_loss: 0.3145 - val_accuracy: 0.8490\n",
      "Epoch 23/25\n",
      "724/724 [==============================] - 4s 5ms/step - loss: 0.3218 - accuracy: 0.8492 - val_loss: 0.3153 - val_accuracy: 0.8520\n",
      "Epoch 24/25\n",
      "724/724 [==============================] - 3s 5ms/step - loss: 0.3194 - accuracy: 0.8518 - val_loss: 0.3157 - val_accuracy: 0.8475\n",
      "Epoch 25/25\n",
      "724/724 [==============================] - 3s 5ms/step - loss: 0.3198 - accuracy: 0.8496 - val_loss: 0.3159 - val_accuracy: 0.8503\n"
     ]
    }
   ],
   "source": [
    "execution = model.fit(xtrain, ytrain, batch_size=25, epochs=25, validation_split=0.25, callbacks = [tensorboard_cb])\n",
    "# history = classifier.fit(X_train, y_train, epochs=25, validation_split=0.25, batch_size = 10, callbacks = [tensorboard_cb])\n",
    "# history = classifier.fit(X_train, y_train, epochs=25, validation_split=0.25, batch_size = 10)"
   ]
  },
  {
   "cell_type": "code",
   "execution_count": 44,
   "id": "04fe751b",
   "metadata": {},
   "outputs": [],
   "source": [
    "model.save(\"CNNmodel.h5\")"
   ]
  },
  {
   "cell_type": "code",
   "execution_count": 45,
   "id": "c1523c95",
   "metadata": {},
   "outputs": [
    {
     "name": "stdout",
     "output_type": "stream",
     "text": [
      "189/189 [==============================] - 0s 2ms/step - loss: 0.3117 - accuracy: 0.8551\n"
     ]
    },
    {
     "data": {
      "text/plain": [
       "[0.31173405051231384, 0.855130136013031]"
      ]
     },
     "execution_count": 45,
     "metadata": {},
     "output_type": "execute_result"
    }
   ],
   "source": [
    "model.evaluate(xtest, ytest)"
   ]
  },
  {
   "cell_type": "code",
   "execution_count": 46,
   "id": "ddfd77a7",
   "metadata": {},
   "outputs": [
    {
     "name": "stdout",
     "output_type": "stream",
     "text": [
      "\n",
      " dict_keys(['loss', 'accuracy', 'val_loss', 'val_accuracy'])\n"
     ]
    }
   ],
   "source": [
    "print('\\n', execution.history.keys())"
   ]
  },
  {
   "cell_type": "code",
   "execution_count": 47,
   "id": "b2831bd7",
   "metadata": {},
   "outputs": [
    {
     "data": {
      "image/png": "[encoded data removed]",
      "text/plain": [
       "<Figure size 800x800 with 1 Axes>"
      ]
     },
     "metadata": {},
     "output_type": "display_data"
    }
   ],
   "source": [
    "pd.DataFrame({'loss':execution.history['loss'],\n",
    "              'valid_loss':execution.history['val_loss'],\n",
    "              }).plot(figsize=(8, 8))\n",
    "plt.grid(True)"
   ]
  },
  {
   "cell_type": "code",
   "execution_count": 48,
   "id": "02019066",
   "metadata": {},
   "outputs": [
    {
     "data": {
      "image/png": "[encoded data removed]",
      "text/plain": [
       "<Figure size 800x800 with 1 Axes>"
      ]
     },
     "metadata": {},
     "output_type": "display_data"
    }
   ],
   "source": [
    "pd.DataFrame({'accuracy':execution.history['accuracy'],\n",
    "              'val_accuracy':execution.history['val_accuracy']\n",
    "              }).plot(figsize=(8, 8))\n",
    "plt.grid(True)"
   ]
  },
  {
   "cell_type": "code",
   "execution_count": 49,
   "id": "f4697d16",
   "metadata": {},
   "outputs": [
    {
     "name": "stdout",
     "output_type": "stream",
     "text": [
      "189/189 [==============================] - 0s 2ms/step\n"
     ]
    }
   ],
   "source": [
    "ypred = model.predict(xtest)\n",
    "classes = np.argmax(ypred, axis=1)\n",
    "ypred = (y_pred > 0.5)"
   ]
  },
  {
   "cell_type": "code",
   "execution_count": 50,
   "id": "2027110d",
   "metadata": {},
   "outputs": [
    {
     "name": "stdout",
     "output_type": "stream",
     "text": [
      "[[3409 1157]\n",
      " [1095  372]]\n"
     ]
    }
   ],
   "source": [
    "import pandas as pd\n",
    "from sklearn.model_selection import train_test_split\n",
    "from sklearn.preprocessing import StandardScaler\n",
    "from sklearn.neural_network import MLPClassifier\n",
    "from sklearn.metrics import classification_report\n",
    "from sklearn.metrics import confusion_matrix\n",
    "\n",
    "print(confusion_matrix(ytest,ypred))"
   ]
  },
  {
   "cell_type": "code",
   "execution_count": 51,
   "id": "f0f4346d",
   "metadata": {},
   "outputs": [
    {
     "name": "stdout",
     "output_type": "stream",
     "text": [
      "CNN model accuracy score: 0.6267\n"
     ]
    }
   ],
   "source": [
    "from sklearn.metrics import accuracy_score, classification_report,confusion_matrix\n",
    "\n",
    "print('CNN model accuracy score: {0:0.4f}'. format(accuracy_score(ytest, ypred)))"
   ]
  },
  {
   "cell_type": "code",
   "execution_count": 52,
   "id": "52fcfec3",
   "metadata": {},
   "outputs": [
    {
     "name": "stdout",
     "output_type": "stream",
     "text": [
      "              precision    recall  f1-score   support\n",
      "\n",
      "           0       0.76      0.75      0.75      4566\n",
      "           1       0.24      0.25      0.25      1467\n",
      "\n",
      "    accuracy                           0.63      6033\n",
      "   macro avg       0.50      0.50      0.50      6033\n",
      "weighted avg       0.63      0.63      0.63      6033\n",
      "\n"
     ]
    },
    {
     "data": {
      "image/png": "[encoded data removed]",
      "text/plain": [
       "<Figure size 700x700 with 2 Axes>"
      ]
     },
     "metadata": {},
     "output_type": "display_data"
    }
   ],
   "source": [
    "from sklearn.metrics import confusion_matrix\n",
    "import seaborn as sns\n",
    "import itertools\n",
    "\n",
    "plt.figure(figsize=(7,7))\n",
    "ax = sns.heatmap(confusion_matrix(ytest, ypred), annot=True,fmt=\"d\",cmap = 'Pastel1')\n",
    "ax.set_xlabel('MLP')\n",
    "\n",
    "plt.ylabel('True Label')\n",
    "plt.xlabel('Predicted Label')\n",
    "pass\n",
    "\n",
    "print(classification_report(ytest, ypred))"
   ]
  }
 ],
 "metadata": {
  "kernelspec": {
   "display_name": "Python 3 (ipykernel)",
   "language": "python",
   "name": "python3"
  },
  "language_info": {
   "codemirror_mode": {
    "name": "ipython",
    "version": 3
   },
   "file_extension": ".py",
   "mimetype": "text/x-python",
   "name": "python",
   "nbconvert_exporter": "python",
   "pygments_lexer": "ipython3",
   "version": "3.10.8"
  }
 },
 "nbformat": 4,
 "nbformat_minor": 5
}
